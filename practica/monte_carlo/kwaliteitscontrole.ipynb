{
 "cells": [
  {
   "cell_type": "markdown",
   "id": "4bdbdeaa-79d8-416d-91b6-0566f3f2eaf4",
   "metadata": {
    "tags": []
   },
   "source": [
    "# Statistische kwaliteitscontrole"
   ]
  },
  {
   "cell_type": "markdown",
   "id": "64960ef1-4dce-4f48-b69f-fc48178fdc2c",
   "metadata": {},
   "source": [
    "![quality](quality.jpg)"
   ]
  },
  {
   "cell_type": "markdown",
   "id": "d1af3142-d8be-4a22-a21b-d058fae53330",
   "metadata": {},
   "source": [
    "## Situatie\n",
    "\n",
    "De firma Glow BV produceert lampen.\n",
    "\n",
    "- Bekend is dat **2%** van de productie defecten bevat = 1.500 lampen\n",
    "- De dagproductie bestaat uit **75.000 lampen**"
   ]
  },
  {
   "cell_type": "markdown",
   "id": "3ad208d3-066d-4c7e-a4c7-8456202b308d",
   "metadata": {},
   "source": [
    "## Opdracht\n",
    "\n",
    "- Onderzoek hoeveel kapotte lampen je tegenkomt als je **25 lampen** uit de totale dagproductie inspecteert\n",
    "- Voer de inspectie **10 maal** uit\n",
    "- Maak een kort overzicht van je bevindingen (in Excel, met MatplotLib of met print-statements)\n",
    "\n",
    "Begin met de analyse hieronder."
   ]
  },
  {
   "cell_type": "markdown",
   "id": "861d9c5f-0d6d-4f1c-ba69-531d3c632cfe",
   "metadata": {},
   "source": [
    "## Stap 1: analyseren\n",
    "\n",
    "- Bedenk hoe je de productie en de productiefout simuleert (zie stap 2 voor een hint)\n",
    "- Bedenk hoe het inspectieproces verloopt\n",
    "\n",
    "**Hint**: zitten er functies in de [random module](https://www.w3schools.com/python/module_random.asp) die passen bij deze opdracht?"
   ]
  },
  {
   "cell_type": "markdown",
   "id": "61577874-6ad0-4406-b49c-bfe83337d3d5",
   "metadata": {},
   "source": [
    "## Stap 2: schetsen\n",
    "\n",
    "Werk op basis van je analyse stapsgewijs een oplossing uit, bijvoorbeeld:"
   ]
  },
  {
   "cell_type": "code",
   "execution_count": 29,
   "id": "d9b2c124-dcba-429a-9c80-c755283eaec7",
   "metadata": {},
   "outputs": [],
   "source": [
    "import random"
   ]
  },
  {
   "cell_type": "code",
   "execution_count": 75,
   "id": "397f1676-3852-41ea-b367-77520ef2e2c2",
   "metadata": {},
   "outputs": [],
   "source": [
    "# manier 1: genereer een lijst van 75k enen en voeg op random plekken een 0 toe.\n",
    "# nb check op het feit dat je een random plek kiest die al op 0 is gezet\n",
    "\n",
    "lampList = []\n",
    "count = 0\n",
    "\n",
    "# 1. Genereer een lijst met functionele lampen (hoeveel?)\n",
    "# stel: funct lamp = 1 en defect lamp = 0\n",
    "for i in range(75000):\n",
    "    lampList.append(1)\n",
    "\n",
    "# 2. Vul de lijst aan met defecte lampen (hoeveel?)\n",
    "while count < 1500:    \n",
    "    r = random.randint(0,75000)\n",
    "    if lampList[r] == 1:\n",
    "        lampList[r] = 0\n",
    "        count += 1\n",
    "# ...\n",
    "\n",
    "# "
   ]
  },
  {
   "cell_type": "code",
   "execution_count": 76,
   "id": "eb29c64e-18b3-4b26-b8f0-51f16fe93c00",
   "metadata": {},
   "outputs": [
    {
     "name": "stdout",
     "output_type": "stream",
     "text": [
      "75000\n",
      "1\n",
      "14496\n",
      "1500\n"
     ]
    }
   ],
   "source": [
    "print(len(lampList))#\n",
    "print(lampList[0])\n",
    "r = random.randint(0,75000)\n",
    "print(r)\n",
    "# print(lampList)\n",
    "\n",
    "count = 0\n",
    "for i in range(len(lampList)):\n",
    "    if lampList[i]==0:\n",
    "        count += 1\n",
    "\n",
    "print(count)\n",
    "\n",
    "# NB extra stap nodig om uit te sluiten dat een 0 nogmaals op 0 wordt gezet"
   ]
  },
  {
   "cell_type": "code",
   "execution_count": 77,
   "id": "937bf806-5c24-4ac9-b1d0-3dd6eaccf835",
   "metadata": {},
   "outputs": [],
   "source": [
    "# manier 2: geneerer een lijst van 75k-1.5k enen en voeg een lijst van 1.5k nullen toe\n",
    "# gebruik random.shuffle() om de nullen op een willekeurige plek tussen de enen te zetten\n",
    "\n",
    "lampList = []\n",
    "\n",
    "# 1. Genereer een lijst met functionele lampen (hoeveel?)\n",
    "# stel: funct lamp = 1 en defect lamp = 0\n",
    "for i in range(75000-1500):\n",
    "    lampList.append(1)\n",
    "\n",
    "for i in range(1500):\n",
    "    lampList.append(0)"
   ]
  },
  {
   "cell_type": "code",
   "execution_count": 78,
   "id": "6bcab7ec-b13a-47ae-9eb5-b1049de16785",
   "metadata": {},
   "outputs": [
    {
     "name": "stdout",
     "output_type": "stream",
     "text": [
      "75000\n"
     ]
    }
   ],
   "source": [
    "print(len(lampList))"
   ]
  },
  {
   "cell_type": "code",
   "execution_count": 79,
   "id": "da234e0e-0bb0-466e-9cf5-b42d6a3caa46",
   "metadata": {},
   "outputs": [
    {
     "name": "stdout",
     "output_type": "stream",
     "text": [
      "1500\n"
     ]
    }
   ],
   "source": [
    "# lampList2 = random.shuffle(lampList)\n",
    "\n",
    "x = [lampList[i] for i in range(len(lampList))]\n",
    "random.shuffle(x)\n",
    "# print(x)\n",
    "\n",
    "\n",
    "count = 0\n",
    "for i in range(len(lampList)):\n",
    "    if lampList[i]==0:\n",
    "        count += 1\n",
    "\n",
    "print(count)"
   ]
  },
  {
   "cell_type": "code",
   "execution_count": null,
   "id": "2ed985bb-f5b1-4392-8212-9ea501ffe510",
   "metadata": {},
   "outputs": [],
   "source": []
  },
  {
   "cell_type": "code",
   "execution_count": null,
   "id": "2560358a-57a8-4cd3-98c1-097b4af46d2b",
   "metadata": {},
   "outputs": [],
   "source": [
    "# manier 3: is er een kant-en-klare random functie om dit te realiseren?"
   ]
  },
  {
   "cell_type": "code",
   "execution_count": 26,
   "id": "d00c39db-513c-4d98-bc6b-d146cdb58c84",
   "metadata": {},
   "outputs": [],
   "source": [
    "# manier 4: gebruik numpy om bovenstaande 3 manieren te realiseren"
   ]
  },
  {
   "cell_type": "markdown",
   "id": "37923139-5fbd-4575-ab9b-72ad309b50be",
   "metadata": {},
   "source": [
    "- Als bovenstaande niet lukt dan zal het implementeren ook niet lukken...\n",
    "- Vraag om hulp, maar oefen eerst met het uitwerken van een oplossing"
   ]
  },
  {
   "cell_type": "markdown",
   "id": "03440dea-9b95-4b92-9d89-8385dbad8ebe",
   "metadata": {},
   "source": [
    "## Stap 3: implementeren\n",
    "\n",
    "- Werk de bovenstaande schets stap voor stap uit\n",
    "- Begin pas met implementeren als de schets klopt"
   ]
  },
  {
   "cell_type": "code",
   "execution_count": 4,
   "id": "ac97b428-2e7f-4088-a0c1-a83f619802e0",
   "metadata": {},
   "outputs": [],
   "source": [
    "# Stappenplan schets\n",
    "\n",
    "# 1. Kies 25 lampen uit alle lampen (random)\n",
    "\n",
    "# 2. Tel alle defecte lampen \n",
    "\n",
    "# 3. Bereken % defecte lampen\n",
    "\n",
    "# 4. Herhaal dit proces 10 keer\n",
    "\n",
    "# Implementatie"
   ]
  },
  {
   "cell_type": "code",
   "execution_count": 109,
   "id": "65f45b03-a680-4db5-9d66-19b82faaefa0",
   "metadata": {},
   "outputs": [
    {
     "name": "stdout",
     "output_type": "stream",
     "text": [
      "0.0\n",
      "0.0\n",
      "0.0\n",
      "0.0\n",
      "0.0\n",
      "0.0\n",
      "0.0\n",
      "0.0\n",
      "0.0\n",
      "0.0\n"
     ]
    }
   ],
   "source": [
    "\n",
    "\n",
    "\n",
    "for qc in range (10):\n",
    "    sampleList = []\n",
    "    count = 0\n",
    "    \n",
    "    # 1. Kies 25 lampen uit alle lampen (random)\n",
    "    for i in range(25):    \n",
    "        r = random.randint(0,75000)\n",
    "        sampleList.append(lampList[r]) \n",
    "        # print(r)    \n",
    "    \n",
    "    # 2. Tel alle defecte lampen \n",
    "    for i in sampleList:\n",
    "        if sampleList[i] == 0:\n",
    "            count += 1\n",
    "    \n",
    "    # print(count)\n",
    "            \n",
    "    # 3. Bereken % defecte lampen\n",
    "    print(count/25 *100)\n",
    "    \n",
    "    # 4. Herhaal dit proces 10 keer\n"
   ]
  },
  {
   "cell_type": "code",
   "execution_count": 111,
   "id": "331e4c5e-3801-43df-a6f7-056ffbbb6213",
   "metadata": {},
   "outputs": [
    {
     "name": "stdout",
     "output_type": "stream",
     "text": [
      "[1, 1, 1, 1, 1, 1, 1, 1, 1, 1, 1, 1, 1, 1, 1, 1, 1, 1, 1, 1, 1, 1, 1, 1, 0]\n",
      "0\n"
     ]
    }
   ],
   "source": [
    "print(sampleList)\n",
    "\n",
    "print(count)"
   ]
  },
  {
   "cell_type": "markdown",
   "id": "5000db0d-561e-4cd8-9870-201de800bc5a",
   "metadata": {},
   "source": [
    "## Stap 4: reflecteren\n",
    "\n",
    "1. (a) Komt het gemiddelde van je inspectie overeen met de daadwerkelijke productiefout?\n",
    "\n",
    "   (b) Zo nee: hoeveel inspecties moet je dan doen om in de buurt te komen van de 2%?\n",
    "\n",
    "2. (a) Is het verstandig om kosten te drukken en maar 5 inspecties uit te voeren?\n",
    "\n",
    "   (b) Of per inspectie slechts 15 lampen te onderzoeken?\n",
    "\n",
    "3. (a) Maakt het uit of je de lampen na inspectie terugstopt in de batch?\n",
    "\n",
    "   (b) Kun je dit aantonen met je simulatie?"
   ]
  },
  {
   "cell_type": "code",
   "execution_count": 5,
   "id": "02ca0d82-1022-497f-b570-9e6126f95e4f",
   "metadata": {
    "tags": []
   },
   "outputs": [],
   "source": [
    "# Bewijs / uitwerkingen\n",
    "\n",
    "# ..."
   ]
  },
  {
   "cell_type": "markdown",
   "id": "324c2c27-f28e-4da5-8d5e-6f06962d04aa",
   "metadata": {},
   "source": [
    "## Extra: variatie in productiefout\n",
    "\n",
    "De aanname is dat 2% van de productie defecten bevat, maar dit is slechts een **gemiddelde** is. Soms is het 3% dan weer 2% of zelfs 5%. De productiefout hangt namelijk weer af van de productiefout in de onderdelen waaruit de lamp is opgebouwd.\n",
    "\n",
    "- Breid je model uit waarin je de productiefout laat varieren met 1%\n",
    "- Maak dit voor de inspectie uit?"
   ]
  },
  {
   "cell_type": "code",
   "execution_count": 3,
   "id": "061c9628-0244-4787-930e-0272c943caab",
   "metadata": {
    "tags": []
   },
   "outputs": [],
   "source": [
    "# Uitbreiding\n",
    "\n",
    "# ..."
   ]
  },
  {
   "cell_type": "markdown",
   "id": "a5de8e30-2e28-4896-98af-be1471aecaf5",
   "metadata": {},
   "source": [
    "## Extra: Bayesiaanse statistiek\n",
    "\n",
    "In de bijlage vind je een csv bestand met daarin een onbekend aantal lampen waarvan er een aantal stuk zijn.\n",
    "\n",
    "1. Lees het bestand in en achterhaal met een aantal inspecties wat het percentage defecte lampen moet zijn\n",
    "\n",
    "2. Controleer daarna of dit juist was door de totale lijst met lampen te analyseren\n",
    "\n",
    "Bovenstaande is een voorbeeld van Baysiaanse statistiek."
   ]
  }
 ],
 "metadata": {
  "kernelspec": {
   "display_name": "Python 3 (ipykernel)",
   "language": "python",
   "name": "python3"
  },
  "language_info": {
   "codemirror_mode": {
    "name": "ipython",
    "version": 3
   },
   "file_extension": ".py",
   "mimetype": "text/x-python",
   "name": "python",
   "nbconvert_exporter": "python",
   "pygments_lexer": "ipython3",
   "version": "3.10.10"
  },
  "toc-showcode": false,
  "toc-showmarkdowntxt": false
 },
 "nbformat": 4,
 "nbformat_minor": 5
}
