{
 "cells": [
  {
   "cell_type": "markdown",
   "id": "3f430533-2ac6-4557-a6ff-c7f96b3530da",
   "metadata": {
    "tags": []
   },
   "source": [
    "# Simulatie casino kansspel"
   ]
  },
  {
   "cell_type": "markdown",
   "id": "d9ee1a06-6308-4d02-973b-05337c7035c5",
   "metadata": {},
   "source": [
    "![roulette](roulette-red.jpg)"
   ]
  },
  {
   "cell_type": "markdown",
   "id": "48902cf8-23e7-4396-a74b-ce74a7bba3a7",
   "metadata": {},
   "source": [
    "## Spelregels"
   ]
  },
  {
   "cell_type": "markdown",
   "id": "44744256-08d4-4768-9306-a9fabe138687",
   "metadata": {},
   "source": [
    "1. Speler kan inzetten op **zwart** of **rood**\n",
    "2. Inzet is **\\\\$10**\n",
    "3. Kleur juist geraden is verdubbeling van de inzet dus **\\\\$20**\n",
    "   -> impliciet: onjuist is inleg kwijt\n",
    "4. Spel stopt als geld op is"
   ]
  },
  {
   "cell_type": "markdown",
   "id": "5c0f86a5-921e-4051-8e83-678337ec8bf3",
   "metadata": {
    "tags": []
   },
   "source": [
    "## Probleem doorgronden (analyse)"
   ]
  },
  {
   "cell_type": "markdown",
   "id": "71d71a50-2199-49bd-a3a0-27a6428ffc29",
   "metadata": {},
   "source": [
    "Doel: bepalen hoeveel ronden te spelen met **$40**\n",
    "\n",
    "1. Hoe bepalen we of het rood of zwart wordt? -> python random generator gebruiken\n",
    "2. Hoe bepalen we wat de speler kiest? -> ook random\n",
    "3. Hoe bepalen we wat we moeten uitkeren? -> if then else\n",
    "4. Hoe houden we het geld van de speler bij? -> variabele"
   ]
  },
  {
   "cell_type": "markdown",
   "id": "033e2436-801f-41e0-b696-320391f3a920",
   "metadata": {},
   "source": [
    "## Aanpak in grote lijnen (schetsen)"
   ]
  },
  {
   "cell_type": "code",
   "execution_count": 1,
   "id": "cf7a4597-0f93-4d77-b014-f1aceda7b826",
   "metadata": {},
   "outputs": [],
   "source": [
    "# Situation 1: how many rounds can player play with $40?\n",
    "\n",
    "# Player starts with $40\n",
    "\n",
    "# While playerBank > 0:\n",
    "    # 1. Place bet: choose color\n",
    "    # 2. Subtract $10\n",
    "    # 3. Casino does coin flip to determine color outcome\n",
    "    # 4. Check if win or lose\n",
    "    # 5. Update bank\n",
    "    # 6. Update round counter\n",
    "\n",
    "# Print #rounds\n",
    "\n",
    "# # NB random < 0.5 betekent niet gelijk en dan heeft > of gelijk meer kans, \n",
    "# maar in praktijk kan random 0 worden maar niet 1 \n",
    "# en daarom mag je dat hier zo doen!"
   ]
  },
  {
   "cell_type": "markdown",
   "id": "8d6169e5-ef62-420b-80bf-b80f82e0d487",
   "metadata": {
    "tags": []
   },
   "source": [
    "## Bepalen rood/zwart (implementatie)"
   ]
  },
  {
   "cell_type": "code",
   "execution_count": 2,
   "id": "ad70b343-461c-464e-9566-80ffc88eaf34",
   "metadata": {},
   "outputs": [],
   "source": [
    "# Get function random() from random module\n",
    "from random import random\n",
    "\n",
    "# Labels for readability\n",
    "black = 'black'\n",
    "red = 'red'\n",
    "\n",
    "# Simulate coin flip\n",
    "def flip():\n",
    "    if random () < 0.5:\n",
    "        return black\n",
    "    else:\n",
    "        return red\n",
    "    "
   ]
  },
  {
   "cell_type": "markdown",
   "id": "9fcca076-634a-4040-9a50-edd5c082b3b1",
   "metadata": {},
   "source": [
    "## Uitwerken comments (implementatie)"
   ]
  },
  {
   "cell_type": "code",
   "execution_count": 65,
   "id": "16216de5-600e-41ff-a199-7ab239a30e02",
   "metadata": {},
   "outputs": [
    {
     "name": "stdout",
     "output_type": "stream",
     "text": [
      "6\n"
     ]
    }
   ],
   "source": [
    "# Player starts with $40\n",
    "playerBank = 40\n",
    "rounds = 0\n",
    "maxRounds = 0\n",
    "\n",
    "for i in range(10000000):\n",
    "    # Simulation start here\n",
    "    while playerBank > 0:\n",
    "        # 1. Place bet: choose color\n",
    "        bet = flip()\n",
    "    \n",
    "        # 2. Subtract $10\n",
    "        playerBank -= 10\n",
    "        \n",
    "        # 3. Casino does coin flip to determine color outcome\n",
    "        casino = flip()\n",
    "        \n",
    "        # 4. Check if win or lose\n",
    "        if bet == casino:\n",
    "            playerBank += 20\n",
    "        \n",
    "        # 5. Update bank\n",
    "    \n",
    "        \n",
    "        # 6. Update round counter\n",
    "        rounds += 1\n",
    "        \n",
    "    if rounds > maxRounds:\n",
    "        maxRounds = rounds\n",
    "\n",
    "            \n",
    "# Print #rounds\n",
    "print(maxRounds)"
   ]
  },
  {
   "cell_type": "code",
   "execution_count": 64,
   "id": "99ca24b5-4290-4a61-a4b7-cc1eae9e2660",
   "metadata": {},
   "outputs": [],
   "source": [
    "# een lijst van maxRounds geeft de mogelijkheid om een aantal statistieken te berekenen"
   ]
  },
  {
   "cell_type": "code",
   "execution_count": null,
   "id": "b900b880-16b9-47c8-872d-6a99566ee23d",
   "metadata": {},
   "outputs": [],
   "source": []
  }
 ],
 "metadata": {
  "kernelspec": {
   "display_name": "Python 3 (ipykernel)",
   "language": "python",
   "name": "python3"
  },
  "language_info": {
   "codemirror_mode": {
    "name": "ipython",
    "version": 3
   },
   "file_extension": ".py",
   "mimetype": "text/x-python",
   "name": "python",
   "nbconvert_exporter": "python",
   "pygments_lexer": "ipython3",
   "version": "3.10.10"
  },
  "toc-showcode": false,
  "toc-showmarkdowntxt": false
 },
 "nbformat": 4,
 "nbformat_minor": 5
}
