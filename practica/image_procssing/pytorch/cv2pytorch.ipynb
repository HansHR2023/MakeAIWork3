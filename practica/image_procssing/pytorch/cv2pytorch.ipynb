{
 "cells": [
  {
   "cell_type": "code",
   "execution_count": 2,
   "id": "cf89a26d-dd8a-4eb6-ba50-0c1dd92813fc",
   "metadata": {},
   "outputs": [],
   "source": [
    "import torch\n",
    "import cv2\n",
    "import torchvision.transforms as transforms\n",
    "from torchvision.io import read_image, ImageReadMode"
   ]
  },
  {
   "cell_type": "code",
   "execution_count": 5,
   "id": "f240f236-628a-41d8-8807-21f132301383",
   "metadata": {},
   "outputs": [],
   "source": [
    "picPath = '../../pics/eurosat_overview_small.jpg'"
   ]
  },
  {
   "cell_type": "code",
   "execution_count": 6,
   "id": "ccea4446-6e7c-46f1-ade3-43a8f7fac81f",
   "metadata": {},
   "outputs": [
    {
     "data": {
      "text/plain": [
       "torch.Size([3, 437, 965])"
      ]
     },
     "execution_count": 6,
     "metadata": {},
     "output_type": "execute_result"
    }
   ],
   "source": [
    "# Read the image\n",
    "pic = cv2.imread(picPath)\n",
    "  \n",
    "# Convert BGR image to RGB image\n",
    "pic = cv2.cvtColor(pic, cv2.COLOR_BGR2RGB)\n",
    "  \n",
    "# Define a transform to convert\n",
    "# the image to torch tensor\n",
    "transform = transforms.Compose([\n",
    "    transforms.ToTensor()\n",
    "])\n",
    "  \n",
    "# Convert the image to Torch tensor\n",
    "picTensor1 = transform(pic)\n",
    "  \n",
    "picTensor1.shape"
   ]
  },
  {
   "cell_type": "code",
   "execution_count": 7,
   "id": "c0f8ad77-7c72-46bb-953e-b5e1041ffece",
   "metadata": {},
   "outputs": [
    {
     "data": {
      "text/plain": [
       "torch.Size([3, 437, 965])"
      ]
     },
     "execution_count": 7,
     "metadata": {},
     "output_type": "execute_result"
    }
   ],
   "source": [
    "picTensor2 = read_image( \n",
    "    picPath, \n",
    "    ImageReadMode.UNCHANGED\n",
    ").float()\n",
    "\n",
    "picTensor2.shape"
   ]
  },
  {
   "cell_type": "code",
   "execution_count": null,
   "id": "696f3606-df36-4389-b103-6bc1ead96e96",
   "metadata": {},
   "outputs": [],
   "source": []
  }
 ],
 "metadata": {
  "kernelspec": {
   "display_name": "Python 3 (ipykernel)",
   "language": "python",
   "name": "python3"
  },
  "language_info": {
   "codemirror_mode": {
    "name": "ipython",
    "version": 3
   },
   "file_extension": ".py",
   "mimetype": "text/x-python",
   "name": "python",
   "nbconvert_exporter": "python",
   "pygments_lexer": "ipython3",
   "version": "3.10.10"
  }
 },
 "nbformat": 4,
 "nbformat_minor": 5
}
