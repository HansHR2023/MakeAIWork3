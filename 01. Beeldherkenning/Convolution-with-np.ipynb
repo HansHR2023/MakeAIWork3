{
 "cells": [
  {
   "cell_type": "markdown",
   "id": "a592a27b-4973-4ab1-8230-9f992343dc14",
   "metadata": {},
   "source": [
    "<h1>Les 01. Beeldherkenning</h1>\n",
    "\n",
    "NB als je np.matrix gebruikt ipv np.array koen er hele andere getallen uit. Waarom? Is het bij np.matrx misschien een dot product ipv een gewone vermenigvuldiging?\n",
    "\n",
    "NB2 eigenlijk is er ook nog een bias in de functie nodig:\n",
    "https://stackoverflow.com/questions/2448015/2d-convolution-using-python-and-numpy"
   ]
  },
  {
   "cell_type": "code",
   "execution_count": 3,
   "id": "e570fd2d-97db-4ee6-8c97-c6c15c922f6d",
   "metadata": {},
   "outputs": [],
   "source": [
    "import numpy as np"
   ]
  },
  {
   "cell_type": "code",
   "execution_count": 42,
   "id": "4d57db17-95fb-4bfe-b610-ee16273856da",
   "metadata": {},
   "outputs": [
    {
     "name": "stdout",
     "output_type": "stream",
     "text": [
      "[[ 8  4  2  3  9  1]\n",
      " [ 0  6  4  3  7 10]\n",
      " [ 2  0  1  3  5  8]\n",
      " [ 6  3  1  4  8  2]\n",
      " [ 0  2  4  3  5  9]\n",
      " [ 2  7  9  1  3  5]]\n",
      "\n",
      "(6, 6)\n"
     ]
    }
   ],
   "source": [
    "image = np.array([[8,4,2,3,9,1],[0,6,4,3,7,10],[2,0,1,3,5,8],[6,3,1,4,8,2],[0,2,4,3,5,9],[2,7,9,1,3,5]])\n",
    "print(image)\n",
    "print()\n",
    "print(image.shape)"
   ]
  },
  {
   "cell_type": "code",
   "execution_count": 43,
   "id": "62227565-b692-481d-98d8-d39c07193492",
   "metadata": {},
   "outputs": [
    {
     "name": "stdout",
     "output_type": "stream",
     "text": [
      "[[ 2  0  3]\n",
      " [ 1  1  0]\n",
      " [ 3 -1  4]]\n",
      "\n",
      "(3, 3)\n"
     ]
    }
   ],
   "source": [
    "kernel = np.array([[2,0,3],[1,1,0],[3,-1,4]])\n",
    "print(kernel)\n",
    "print()\n",
    "print(kernel.shape)"
   ]
  },
  {
   "cell_type": "code",
   "execution_count": null,
   "id": "c3d7834c-5b35-433b-aa6a-d08eedbe82b7",
   "metadata": {},
   "outputs": [],
   "source": []
  },
  {
   "cell_type": "code",
   "execution_count": null,
   "id": "3ee901bf-4dc6-423c-8c40-39fe57f2b6b7",
   "metadata": {},
   "outputs": [],
   "source": []
  },
  {
   "cell_type": "code",
   "execution_count": 48,
   "id": "cd512d88-ace6-4492-9d25-5c50f7c06174",
   "metadata": {},
   "outputs": [],
   "source": [
    "def convolution(image, kernel):\n",
    "    m, n = kernel.shape\n",
    "    print('m = ',m)\n",
    "    print('n = ',n)\n",
    "    if (m == n):\n",
    "        y, x = image.shape\n",
    "        y = y - m + 1\n",
    "        x = x - n + 1\n",
    "        print('y = ',y)\n",
    "        print('x = ',x)\n",
    "        new_image = np.zeros((y,x))\n",
    "        print(new_image)\n",
    "        for i in range(y):\n",
    "            for j in range(x):\n",
    "                new_image[i][j] = np.sum(image[i:i+m, j:j+n]*kernel)\n",
    "    return new_image"
   ]
  },
  {
   "cell_type": "code",
   "execution_count": 49,
   "id": "f68f4abf-d7a0-4d27-89e3-de5ab6157bce",
   "metadata": {},
   "outputs": [
    {
     "name": "stdout",
     "output_type": "stream",
     "text": [
      "m =  3\n",
      "n =  3\n",
      "y =  4\n",
      "x =  4\n",
      "[[0. 0. 0. 0.]\n",
      " [0. 0. 0. 0.]\n",
      " [0. 0. 0. 0.]\n",
      " [0. 0. 0. 0.]]\n"
     ]
    }
   ],
   "source": [
    "new_image = convolution(image, kernel)"
   ]
  },
  {
   "cell_type": "code",
   "execution_count": 50,
   "id": "91dacc66-b43c-4e10-a134-4fe646e9cbc5",
   "metadata": {},
   "outputs": [
    {
     "name": "stdout",
     "output_type": "stream",
     "text": [
      "[[38. 38. 58. 55.]\n",
      " [33. 46. 64. 56.]\n",
      " [30. 27. 51. 82.]\n",
      " [52. 40. 71. 42.]]\n"
     ]
    }
   ],
   "source": [
    "print(new_image)"
   ]
  },
  {
   "cell_type": "code",
   "execution_count": null,
   "id": "653866b4-2e2c-43be-8320-a887b75ec49b",
   "metadata": {},
   "outputs": [],
   "source": []
  },
  {
   "cell_type": "markdown",
   "id": "05ba2f91-8e9f-4600-93a7-28e86716d55a",
   "metadata": {},
   "source": [
    "Opdracht B"
   ]
  },
  {
   "cell_type": "code",
   "execution_count": 58,
   "id": "5eb15e0d-5fa7-4fc8-aba0-6c244038a30e",
   "metadata": {},
   "outputs": [],
   "source": [
    "def zero_pad(X,pad):\n",
    "    return np.pad(X, ((pad,pad),(pad,pad)), 'constant')"
   ]
  },
  {
   "cell_type": "code",
   "execution_count": 59,
   "id": "448d0c99-b089-40c8-8f71-1b6a3750be50",
   "metadata": {},
   "outputs": [
    {
     "name": "stdout",
     "output_type": "stream",
     "text": [
      "[[ 0  0  0  0  0  0  0  0  0  0]\n",
      " [ 0  0  0  0  0  0  0  0  0  0]\n",
      " [ 0  0  8  4  2  3  9  1  0  0]\n",
      " [ 0  0  0  6  4  3  7 10  0  0]\n",
      " [ 0  0  2  0  1  3  5  8  0  0]\n",
      " [ 0  0  6  3  1  4  8  2  0  0]\n",
      " [ 0  0  0  2  4  3  5  9  0  0]\n",
      " [ 0  0  2  7  9  1  3  5  0  0]\n",
      " [ 0  0  0  0  0  0  0  0  0  0]\n",
      " [ 0  0  0  0  0  0  0  0  0  0]]\n"
     ]
    }
   ],
   "source": [
    "print(zero_pad(image,2))"
   ]
  },
  {
   "cell_type": "code",
   "execution_count": null,
   "id": "f8555d16-c632-4474-baaa-5cc2f4dadd0e",
   "metadata": {},
   "outputs": [],
   "source": []
  }
 ],
 "metadata": {
  "kernelspec": {
   "display_name": "Python 3 (ipykernel)",
   "language": "python",
   "name": "python3"
  },
  "language_info": {
   "codemirror_mode": {
    "name": "ipython",
    "version": 3
   },
   "file_extension": ".py",
   "mimetype": "text/x-python",
   "name": "python",
   "nbconvert_exporter": "python",
   "pygments_lexer": "ipython3",
   "version": "3.10.10"
  }
 },
 "nbformat": 4,
 "nbformat_minor": 5
}
